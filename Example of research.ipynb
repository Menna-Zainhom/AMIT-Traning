{
 "cells": [
  {
   "cell_type": "markdown",
   "metadata": {},
   "source": [
    "### Example of abstraction"
   ]
  },
  {
   "cell_type": "code",
   "execution_count": 19,
   "metadata": {},
   "outputs": [
    {
     "name": "stdout",
     "output_type": "stream",
     "text": [
      "The speed is 30 kmph\n"
     ]
    }
   ],
   "source": [
    "\n",
    "# abstract class  \n",
    "\n",
    "class Car():   \n",
    "    def speed(self):   \n",
    "        pass  \n",
    "  \n",
    "class Tesla(Car):   \n",
    "    def speed(self):   \n",
    "        print(\"The speed is 30 kmph\")  \n",
    "\n",
    "class Suzuki(Car):   \n",
    "    def speed(self):   \n",
    "        print(\"The speed is 25 kmph \")   \n",
    "\n",
    "          \n",
    "# Driver code  \n",
    " \n",
    "t= Tesla ()   \n",
    "t.speed()   \n",
    "  "
   ]
  },
  {
   "cell_type": "markdown",
   "metadata": {},
   "source": [
    "## Example of Encapsulation"
   ]
  },
  {
   "cell_type": "code",
   "execution_count": 20,
   "metadata": {},
   "outputs": [
    {
     "name": "stdout",
     "output_type": "stream",
     "text": [
      "Name:  menna\n",
      "Age:  22\n"
     ]
    }
   ],
   "source": [
    "# abstract class  \n",
    "class pub_mod:\n",
    "\n",
    "    # constructor\n",
    "    def __init__(self, name, age):\n",
    "        self.name = name\n",
    "        self.age = age\n",
    " \n",
    "    def Age(self): \n",
    " # accessing public data member \n",
    "        print(\"Age: \", self.age)\n",
    "\n",
    "# creating object \n",
    "obj = pub_mod(\"menna\", 22)\n",
    "\n",
    "# accessing public data member \n",
    "print(\"Name: \", obj.name)  \n",
    "\n",
    "# calling public member function of the class \n",
    "obj.Age()"
   ]
  },
  {
   "cell_type": "markdown",
   "metadata": {},
   "source": [
    "## Example of Dunder method"
   ]
  },
  {
   "cell_type": "code",
   "execution_count": 21,
   "metadata": {},
   "outputs": [
    {
     "name": "stdout",
     "output_type": "stream",
     "text": [
      "welcome\n"
     ]
    }
   ],
   "source": [
    "#2- class using construction print welcom once you make an object\n",
    "class student():\n",
    "    def __init__(self):\n",
    "        print('welcome')\n",
    "\n",
    "student1=student()  \n"
   ]
  },
  {
   "cell_type": "markdown",
   "metadata": {},
   "source": [
    "## Example of Args "
   ]
  },
  {
   "cell_type": "code",
   "execution_count": 22,
   "metadata": {},
   "outputs": [
    {
     "name": "stdout",
     "output_type": "stream",
     "text": [
      "Sum: 8\n",
      "Sum: 22\n",
      "Sum: 17\n"
     ]
    }
   ],
   "source": [
    "#Define function to add numbers\n",
    "\n",
    "def add_numbers(*num):\n",
    "\n",
    "#Define intial value\n",
    "    sum = 0\n",
    "    \n",
    "    for n in num:\n",
    "        sum = sum + n\n",
    "\n",
    "    print(\"Sum:\",sum)\n",
    "\n",
    "#call the function\n",
    "\n",
    "add_numbers(3,5)\n",
    "add_numbers(4,5,6,7)\n",
    "add_numbers(1,2,3,5,6)"
   ]
  },
  {
   "cell_type": "markdown",
   "metadata": {},
   "source": [
    "## Examble of  kwordargs "
   ]
  },
  {
   "cell_type": "code",
   "execution_count": 23,
   "metadata": {},
   "outputs": [
    {
     "name": "stdout",
     "output_type": "stream",
     "text": [
      "Firstname is Menna\n",
      "Lastname is Zinhom\n",
      "Age is 22\n",
      "Firstname is Aya\n",
      "Lastname is Ali\n"
     ]
    }
   ],
   "source": [
    "#Define function to collect data\n",
    "def intro(**data):\n",
    "\n",
    "    for key, value in data.items():\n",
    "        print(\"{} is {}\".format(key,value))\n",
    "\n",
    "#call the function\n",
    "\n",
    "intro(Firstname=\"Menna\", Lastname=\"Zinhom\", Age=22)\n",
    "\n",
    "intro(Firstname=\"Aya\", Lastname=\"Ali\")"
   ]
  }
 ],
 "metadata": {
  "kernelspec": {
   "display_name": "Python 3.10.5 64-bit",
   "language": "python",
   "name": "python3"
  },
  "language_info": {
   "codemirror_mode": {
    "name": "ipython",
    "version": 3
   },
   "file_extension": ".py",
   "mimetype": "text/x-python",
   "name": "python",
   "nbconvert_exporter": "python",
   "pygments_lexer": "ipython3",
   "version": "3.10.5"
  },
  "orig_nbformat": 4,
  "vscode": {
   "interpreter": {
    "hash": "e074cebecb8a1dc6d2152aedf879479ace58db82fdae5784efaf8d50c4a04b01"
   }
  }
 },
 "nbformat": 4,
 "nbformat_minor": 2
}
