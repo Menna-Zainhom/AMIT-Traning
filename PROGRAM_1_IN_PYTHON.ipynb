{
 "cells": [
  {
   "cell_type": "markdown",
   "id": "ff5141cd",
   "metadata": {},
   "source": [
    "ASSIGNMENT_1_FIRST_TRY_IN_AMIT-TRANING"
   ]
  },
  {
   "cell_type": "code",
   "execution_count": 4,
   "id": "7ebd151f",
   "metadata": {},
   "outputs": [
    {
     "data": {
      "text/plain": [
       "'\\nA program that takes two numbers from the user, collects them, and then prints the result of the combination\\n'"
      ]
     },
     "execution_count": 4,
     "metadata": {},
     "output_type": "execute_result"
    }
   ],
   "source": [
    "'''\n",
    "A program that takes two numbers from the user, collects them, and then prints the result of the summation\n",
    "'''"
   ]
  },
  {
   "cell_type": "code",
   "execution_count": 8,
   "id": "573ee691",
   "metadata": {},
   "outputs": [
    {
     "name": "stdout",
     "output_type": "stream",
     "text": [
      "Please enter two numbers, let a space between them5.5 10\n"
     ]
    }
   ],
   "source": [
    "#ask user to enter two numbers and to let space between them\n",
    "num1,num2=input(\"Please enter two numbers, let a space between them\").split()\n"
   ]
  },
  {
   "cell_type": "code",
   "execution_count": 9,
   "id": "a6d5691a",
   "metadata": {},
   "outputs": [],
   "source": [
    "#add the two numbers\n",
    "sum = float (num1) + float (num2)"
   ]
  },
  {
   "cell_type": "code",
   "execution_count": 10,
   "id": "d5a5cdba",
   "metadata": {},
   "outputs": [
    {
     "name": "stdout",
     "output_type": "stream",
     "text": [
      "The summation ot the two number is 15.5\n"
     ]
    }
   ],
   "source": [
    "#Print the result of the summation process\n",
    "print('The summation ot the two number is',sum)"
   ]
  }
 ],
 "metadata": {
  "kernelspec": {
   "display_name": "Python 3 (ipykernel)",
   "language": "python",
   "name": "python3"
  },
  "language_info": {
   "codemirror_mode": {
    "name": "ipython",
    "version": 3
   },
   "file_extension": ".py",
   "mimetype": "text/x-python",
   "name": "python",
   "nbconvert_exporter": "python",
   "pygments_lexer": "ipython3",
   "version": "3.9.12"
  }
 },
 "nbformat": 4,
 "nbformat_minor": 5
}
