{
 "cells": [
  {
   "cell_type": "markdown",
   "id": "e6149386",
   "metadata": {},
   "source": [
    "ASSIGNMENT_1_FIRST_TRY_IN_AMIT-TRANING"
   ]
  },
  {
   "cell_type": "code",
   "execution_count": 4,
   "id": "87530f69",
   "metadata": {},
   "outputs": [
    {
     "data": {
      "text/plain": [
       "'\\nA program that takes two numbers from the user, collects them, and then prints the result of the combination\\n'"
      ]
     },
     "execution_count": 4,
     "metadata": {},
     "output_type": "execute_result"
    }
   ],
   "source": [
    "'''\n",
    "A program that takes two numbers from the user, collects them, and then prints the result of the summation\n",
    "'''"
   ]
  },
  {
   "cell_type": "code",
   "execution_count": 8,
   "id": "33231f51",
   "metadata": {},
   "outputs": [
    {
     "name": "stdout",
     "output_type": "stream",
     "text": [
      "Please enter two numbers, let a space between them5.5 10\n"
     ]
    }
   ],
   "source": [
    "#ask user to enter two numbers and to let space between them\n",
    "num1,num2=input(\"Please enter two numbers, let a space between them\").split()\n"
   ]
  },
  {
   "cell_type": "code",
   "execution_count": 9,
   "id": "326ead78",
   "metadata": {},
   "outputs": [],
   "source": [
    "#add the two numbers\n",
    "sum = float (num1) + float (num2)"
   ]
  },
  {
   "cell_type": "code",
   "execution_count": 10,
   "id": "0450cd03",
   "metadata": {},
   "outputs": [
    {
     "name": "stdout",
     "output_type": "stream",
     "text": [
      "The summation ot the two number is 15.5\n"
     ]
    }
   ],
   "source": [
    "print('The summation ot the two number is',sum)"
   ]
  }
 ],
 "metadata": {
  "kernelspec": {
   "display_name": "Python 3 (ipykernel)",
   "language": "python",
   "name": "python3"
  },
  "language_info": {
   "codemirror_mode": {
    "name": "ipython",
    "version": 3
   },
   "file_extension": ".py",
   "mimetype": "text/x-python",
   "name": "python",
   "nbconvert_exporter": "python",
   "pygments_lexer": "ipython3",
   "version": "3.9.12"
  }
 },
 "nbformat": 4,
 "nbformat_minor": 5
}
