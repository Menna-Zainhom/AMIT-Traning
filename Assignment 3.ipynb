{
 "cells": [
  {
   "cell_type": "markdown",
   "metadata": {},
   "source": [
    "# Assignment 3"
   ]
  },
  {
   "cell_type": "markdown",
   "metadata": {},
   "source": [
    "### Write a function to count the number 4 in a given list."
   ]
  },
  {
   "cell_type": "code",
   "execution_count": 4,
   "metadata": {
    "collapsed": true
   },
   "outputs": [
    {
     "name": "stdout",
     "output_type": "stream",
     "text": [
      "this list has 3 number four\n"
     ]
    }
   ],
   "source": [
    "#create the function\n",
    "\n",
    "def counte_no(list1):\n",
    "\n",
    "#make intial value of counter\n",
    "    counter=0\n",
    "\n",
    "#make loop to search about no 4\n",
    "    for num in list1:\n",
    "\n",
    "        if num==4:\n",
    "\n",
    "            counter+=1\n",
    "\n",
    "    print('this list has',counter,'number four')   \n",
    "\n",
    "#call the function\n",
    "counte_no([1,2,4,4,3,4,5])         \n",
    "          \n",
    "    "
   ]
  },
  {
   "cell_type": "markdown",
   "metadata": {},
   "source": [
    "### write a  function to check whether a number is divisible by another number."
   ]
  },
  {
   "cell_type": "code",
   "execution_count": 6,
   "metadata": {
    "collapsed": true
   },
   "outputs": [
    {
     "name": "stdout",
     "output_type": "stream",
     "text": [
      "2  is  not divisable by  10\n"
     ]
    }
   ],
   "source": [
    "#create the function\n",
    "\n",
    "def divisable(num1,num2):\n",
    "\n",
    "    #check if number1 is  divisible by number 2\n",
    "\n",
    "    if num1%num2==0:\n",
    "        print(num1,' is divisable by ',num2)\n",
    "    else: \n",
    "        print(num1,' is  not divisable by ',num2)   \n",
    "\n",
    "#call the function\n",
    "\n",
    "divisable(2,10)   "
   ]
  },
  {
   "cell_type": "markdown",
   "metadata": {},
   "source": [
    "### write a function to find the maximum and minimum numbers from a sequence of numbers."
   ]
  },
  {
   "cell_type": "code",
   "execution_count": 22,
   "metadata": {
    "collapsed": true
   },
   "outputs": [
    {
     "name": "stdout",
     "output_type": "stream",
     "text": [
      "the maximum number is  100\n",
      "the minmimum number is  -50\n"
     ]
    }
   ],
   "source": [
    "#define the function \n",
    "\n",
    "def max_min(sequence):\n",
    "\n",
    "#make two intial values to compare with them\n",
    "\n",
    "    max_num=sequence[0]\n",
    "\n",
    "    min_num=sequence[0]\n",
    "\n",
    "#make a loop to ckeck the all  sequence of numbers   \n",
    "\n",
    "    for num in sequence:\n",
    "\n",
    "#check maximum number\n",
    "        if num>max_num:\n",
    "            max_num=num\n",
    "\n",
    "#check minimum number\n",
    "        if num<min_num:\n",
    "            min_num=num\n",
    "#print the results\n",
    "            \n",
    "    print('the maximum number is ', max_num)    \n",
    "    print('the minmimum number is ',min_num) \n",
    "\n",
    "#call the function\n",
    "\n",
    "max_min([0,1,2,3,100,-50])"
   ]
  },
  {
   "cell_type": "markdown",
   "metadata": {},
   "source": [
    "### Write a Python function that takes two lists and returns True if they have at least one common member."
   ]
  },
  {
   "cell_type": "code",
   "execution_count": 28,
   "metadata": {
    "collapsed": true
   },
   "outputs": [
    {
     "data": {
      "text/plain": [
       "True"
      ]
     },
     "execution_count": 28,
     "metadata": {},
     "output_type": "execute_result"
    }
   ],
   "source": [
    "#define the function \n",
    "\n",
    "def comparsion(list1,list2):\n",
    "\n",
    "#make a loop to ckeck the all numbers of list1 \n",
    "  \n",
    "    for item_list1 in list1:\n",
    "\n",
    "#make a loop to ckeck the all numbers of list2 \n",
    "      \n",
    "        for item_list2 in list2:\n",
    "\n",
    "#check if list1 and list2 if they have at least one common member      \n",
    "    \n",
    "            if item_list1==item_list2:\n",
    "\n",
    "              break\n",
    "\n",
    "            return True\n",
    "#call the function\n",
    "            \n",
    "comparsion([1,2,3],[1,5,6])           "
   ]
  },
  {
   "cell_type": "markdown",
   "metadata": {},
   "source": [
    "### Write a Python function to calculate the factorial of a number (a non-negative integer). The function accepts the number from the user"
   ]
  },
  {
   "cell_type": "code",
   "execution_count": 44,
   "metadata": {
    "collapsed": true
   },
   "outputs": [
    {
     "name": "stdout",
     "output_type": "stream",
     "text": [
      "the factorial of  5  =  120\n"
     ]
    },
    {
     "data": {
      "text/plain": [
       "\"''\\ndef factorial (num):\\n    fact=1\\n    while fact <= num :\\n        fact=fact*fact\\n        fact += 1\\n    print('the factorial of ',num,' = ',fact) \\nnum=int(input('please enter the number'))     \\nfactorial(num)    \\n\""
      ]
     },
     "execution_count": 44,
     "metadata": {},
     "output_type": "execute_result"
    }
   ],
   "source": [
    "#define the function \n",
    "\n",
    "def factorial (num):\n",
    "\n",
    "#make intial value \n",
    "    fact=1\n",
    "\n",
    "    for i in range(1,num+1):\n",
    "        fact *= i\n",
    "    \n",
    "    print('the factorial of ',num,' = ',fact) \n",
    "    \n",
    "#ask user to enter the number\n",
    " \n",
    "num=int(input('please enter the number'))   \n",
    "\n",
    "#call the function\n",
    "\n",
    "factorial(num)      \n",
    "          \n",
    "'''''\n",
    "def factorial (num):\n",
    "    fact=1\n",
    "    while fact <= num :\n",
    "        fact=fact*fact\n",
    "        fact += 1\n",
    "    print('the factorial of ',num,' = ',fact) \n",
    "num=int(input('please enter the number'))     \n",
    "factorial(num)    \n",
    "'''"
   ]
  },
  {
   "cell_type": "markdown",
   "metadata": {},
   "source": [
    "### Write a Python function to check whether a number is in a given range.\n",
    "\n",
    "### The range is from 3 to 11\n"
   ]
  },
  {
   "cell_type": "code",
   "execution_count": 57,
   "metadata": {
    "collapsed": true
   },
   "outputs": [
    {
     "name": "stdout",
     "output_type": "stream",
     "text": [
      "17 is not in the range from 3 to 11\n"
     ]
    }
   ],
   "source": [
    "#define the function\n",
    "\n",
    "def check(num):\n",
    "\n",
    "#check if the function in range\n",
    "\n",
    "    if num in range(3,12):\n",
    "\n",
    "        print(num,'is in the range from 3 to 11')   \n",
    "               \n",
    "    else:  \n",
    "\n",
    "        print(num,'is not in the range from 3 to 11') \n",
    "\n",
    " #call the function\n",
    "           \n",
    "num=int(input('please enter the number'))   \n",
    "      \n",
    "check(num)        "
   ]
  },
  {
   "cell_type": "markdown",
   "metadata": {},
   "source": [
    "### Write a  program to create the multiplication table (from 1 to 10) of a number."
   ]
  },
  {
   "cell_type": "code",
   "execution_count": 63,
   "metadata": {
    "collapsed": true
   },
   "outputs": [
    {
     "name": "stdout",
     "output_type": "stream",
     "text": [
      "muitiplication table of  3\n",
      "3  *  1  =  3\n",
      "3  *  2  =  6\n",
      "3  *  3  =  9\n",
      "3  *  4  =  12\n",
      "3  *  5  =  15\n",
      "3  *  6  =  18\n",
      "3  *  7  =  21\n",
      "3  *  8  =  24\n",
      "3  *  9  =  27\n",
      "3  *  10  =  30\n"
     ]
    }
   ],
   "source": [
    "#define the function\n",
    "\n",
    "def mul(num):\n",
    "\n",
    "    print('muitiplication table of ',num)\n",
    "\n",
    "#make loop to calculate multiplication table    \n",
    "    for item in range(1,11):\n",
    "\n",
    "     print(num,' * ',item,' = ',num*item)\n",
    "\n",
    "#call the function\n",
    "\n",
    "num=int(input('please enter the number'))   \n",
    "      \n",
    "mul(num)\n",
    " "
   ]
  },
  {
   "cell_type": "markdown",
   "metadata": {},
   "source": [
    "#### LESSER OF TWO EVENS: Write a function that returns the lesser of two given numbers *if* both numbers are even, but returns the greater if one or both numbers are odd\n",
    "    lesser_of_two_evens(2,4) --> 2\n",
    "    lesser_of_two_evens(2,5) --> 5"
   ]
  },
  {
   "cell_type": "code",
   "execution_count": 70,
   "metadata": {},
   "outputs": [
    {
     "name": "stdout",
     "output_type": "stream",
     "text": [
      "the two number are even and  4 is the smallest\n"
     ]
    },
    {
     "data": {
      "text/plain": [
       "4"
      ]
     },
     "execution_count": 70,
     "metadata": {},
     "output_type": "execute_result"
    }
   ],
   "source": [
    "#define the function\n",
    "\n",
    "def lesser(num1,num2):\\\n",
    "\n",
    "#check if two numbers is even\n",
    "\n",
    "    if num1 % 2 == 0 and num2 % 2 == 0:\n",
    "\n",
    "#Check the less number:\n",
    "        if num2 <  num1:\n",
    "            result=num2\n",
    "        else:\n",
    "           result=num1\n",
    "        print('the two number are even and ',result,'is the smallest')\n",
    "\n",
    "#Two numbers are not even \n",
    "    else:  \n",
    "\n",
    "#check the greater number         \n",
    "        if num1 > num2:\n",
    "            result=num1\n",
    "        else:\n",
    "           result=num2 \n",
    "\n",
    "        print('one number or both are odd and ',result,'is the grater')    \n",
    "\n",
    "    return result \n",
    "    \n",
    "#call the function\n",
    "\n",
    "lesser(8,4)  \n",
    "\n"
   ]
  },
  {
   "cell_type": "code",
   "execution_count": null,
   "metadata": {},
   "outputs": [],
   "source": []
  }
 ],
 "metadata": {
  "kernelspec": {
   "display_name": "Python 3.10.5 64-bit",
   "language": "python",
   "name": "python3"
  },
  "language_info": {
   "codemirror_mode": {
    "name": "ipython",
    "version": 3
   },
   "file_extension": ".py",
   "mimetype": "text/x-python",
   "name": "python",
   "nbconvert_exporter": "python",
   "pygments_lexer": "ipython3",
   "version": "3.10.5"
  },
  "vscode": {
   "interpreter": {
    "hash": "e074cebecb8a1dc6d2152aedf879479ace58db82fdae5784efaf8d50c4a04b01"
   }
  }
 },
 "nbformat": 4,
 "nbformat_minor": 2
}
