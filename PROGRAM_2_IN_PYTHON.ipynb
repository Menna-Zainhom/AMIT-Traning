{
 "cells": [
  {
   "cell_type": "markdown",
   "id": "85eb137b",
   "metadata": {},
   "source": [
    "ASSIGNMENT_1_SECOND_TRY_IN_AMIT-TRANING"
   ]
  },
  {
   "cell_type": "code",
   "execution_count": 4,
   "id": "8962a439",
   "metadata": {},
   "outputs": [
    {
     "data": {
      "text/plain": [
       "'\\nA program that takes two numbers from the user, collects them, and then prints the result of the combination\\n'"
      ]
     },
     "execution_count": 4,
     "metadata": {},
     "output_type": "execute_result"
    }
   ],
   "source": [
    "'''\n",
    "A program that takes two numbers from the user, collects them, and then prints the result of the summation\n",
    "'''"
   ]
  },
  {
   "cell_type": "code",
   "execution_count": 1,
   "id": "bfb0bdca",
   "metadata": {},
   "outputs": [
    {
     "name": "stdout",
     "output_type": "stream",
     "text": [
      "Please enter two numbers, let a coma between them11.5,17.3\n"
     ]
    }
   ],
   "source": [
    "#ask user to enter two numbers and to let a coma between them\n",
    "num1,num2=input(\"Please enter two numbers, let a coma between them\").split(',')"
   ]
  },
  {
   "cell_type": "code",
   "execution_count": 2,
   "id": "0db98011",
   "metadata": {},
   "outputs": [],
   "source": [
    "#add the two numbers\n",
    "sum = float (num1) + float (num2)"
   ]
  },
  {
   "cell_type": "code",
   "execution_count": 3,
   "id": "0703336e",
   "metadata": {},
   "outputs": [
    {
     "name": "stdout",
     "output_type": "stream",
     "text": [
      "The summation of the two number is 28.8\n"
     ]
    }
   ],
   "source": [
    "#Print the result of the summation process\n",
    "print('The summation of the two number is',sum)"
   ]
  }
 ],
 "metadata": {
  "kernelspec": {
   "display_name": "Python 3 (ipykernel)",
   "language": "python",
   "name": "python3"
  },
  "language_info": {
   "codemirror_mode": {
    "name": "ipython",
    "version": 3
   },
   "file_extension": ".py",
   "mimetype": "text/x-python",
   "name": "python",
   "nbconvert_exporter": "python",
   "pygments_lexer": "ipython3",
   "version": "3.9.12"
  }
 },
 "nbformat": 4,
 "nbformat_minor": 5
}
