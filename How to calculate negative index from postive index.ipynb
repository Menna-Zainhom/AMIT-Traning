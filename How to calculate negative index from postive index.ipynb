{
 "cells": [
  {
   "cell_type": "code",
   "execution_count": 7,
   "metadata": {},
   "outputs": [
    {
     "name": "stdout",
     "output_type": "stream",
     "text": [
      "the length of the statement is 55\n",
      "the postive_index is 1\n",
      "the negative_index is -54\n",
      "e\n",
      "e\n"
     ]
    }
   ],
   "source": [
    "# creative program\n",
    "# how can i know the -ve index from +ve index and vice verse\n",
    "x='Hello World!, my name is Menna  and i have 22 years old'\n",
    "postive_index=int(input('please enter the postive index'))\n",
    "#To Know The length of X\n",
    "L=len(x)\n",
    "print('the length of the statement is',L)\n",
    "negative_index= postive_index-L\n",
    "print('the postive_index is',postive_index)\n",
    "print('the negative_index is',negative_index)\n",
    "print(x[postive_index])\n",
    "print(x[negative_index])"
   ]
  },
  {
   "cell_type": "code",
   "execution_count": null,
   "metadata": {},
   "outputs": [],
   "source": [
    "# my creative program\n",
    "# how can i know the -ve index from +ve index and vice verse\n",
    "x='Hello World!, my name is Menna  and i have 22 years old'\n",
    "postive_index=int(input('please enter the postive index'))\n",
    "#To Know The length of X\n",
    "L=len(x)\n",
    "print('the length of the statement is',L)\n",
    "negative_index= postive_index-L\n",
    "print('the postive_index is',postive_index)\n",
    "print('the negative_index is',negative_index)\n",
    "print(x[postive_index])\n",
    "print(x[negative_index])"
   ]
  }
 ],
 "metadata": {
  "kernelspec": {
   "display_name": "Python 3.10.5 64-bit",
   "language": "python",
   "name": "python3"
  },
  "language_info": {
   "codemirror_mode": {
    "name": "ipython",
    "version": 3
   },
   "file_extension": ".py",
   "mimetype": "text/x-python",
   "name": "python",
   "nbconvert_exporter": "python",
   "pygments_lexer": "ipython3",
   "version": "3.10.5"
  },
  "orig_nbformat": 4,
  "vscode": {
   "interpreter": {
    "hash": "e074cebecb8a1dc6d2152aedf879479ace58db82fdae5784efaf8d50c4a04b01"
   }
  }
 },
 "nbformat": 4,
 "nbformat_minor": 2
}
