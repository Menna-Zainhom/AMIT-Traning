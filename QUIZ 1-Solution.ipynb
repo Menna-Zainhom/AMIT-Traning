{
 "cells": [
  {
   "cell_type": "markdown",
   "metadata": {
    "collapsed": true
   },
   "source": [
    "# QUIZ\n",
    "Let's test your knowledge!"
   ]
  },
  {
   "cell_type": "markdown",
   "metadata": {},
   "source": [
    "_____\n",
    "**Use <code>for</code>, .split(), and <code>if</code> to create a Statement that will print out words that start with 's':**"
   ]
  },
  {
   "cell_type": "code",
   "execution_count": 76,
   "metadata": {},
   "outputs": [],
   "source": [
    "st = 'Print only the words that start with s in this sentence'"
   ]
  },
  {
   "cell_type": "code",
   "execution_count": 9,
   "metadata": {},
   "outputs": [
    {
     "name": "stdout",
     "output_type": "stream",
     "text": [
      "['start']\n",
      "['s']\n",
      "['sentence']\n"
     ]
    }
   ],
   "source": [
    "#Code here\n",
    "\n",
    "#Convert St into list \n",
    "st = 'Print only the words that start with s in this sentence'.split()\n",
    "\n",
    "# for to loop the words\n",
    "\n",
    "for i in st:\n",
    "\n",
    "  #check if word start with s\n",
    "  \n",
    "  if i[0]=='s':\n",
    "\n",
    "    print([i])\n",
    "\n",
    "   \n",
    "\n",
    "      "
   ]
  },
  {
   "cell_type": "markdown",
   "metadata": {},
   "source": [
    "______\n",
    "**Use range() to print all the even numbers from 0 to 10.**"
   ]
  },
  {
   "cell_type": "code",
   "execution_count": 78,
   "metadata": {},
   "outputs": [
    {
     "name": "stdout",
     "output_type": "stream",
     "text": [
      "the even numbers are:\n",
      "0\n",
      "2\n",
      "4\n",
      "6\n",
      "8\n"
     ]
    }
   ],
   "source": [
    "print(\"the even numbers are:\")\n",
    "\n",
    "# for to loop in range from 0 to 10\n",
    "\n",
    "for i in range (0,10):\n",
    "\n",
    "    #to check the even no\n",
    "\n",
    "    if i%2 ==0:\n",
    "        \n",
    "        print(i)"
   ]
  },
  {
   "cell_type": "markdown",
   "metadata": {},
   "source": [
    "___\n",
    "**Use a List Comprehension to create a list of all numbers between 1 and 50 that are divisible by 3.**"
   ]
  },
  {
   "cell_type": "code",
   "execution_count": 79,
   "metadata": {},
   "outputs": [
    {
     "name": "stdout",
     "output_type": "stream",
     "text": [
      "[3, 6, 9, 12, 15, 18, 21, 24, 27, 30, 33, 36, 39, 42, 45, 48]\n"
     ]
    }
   ],
   "source": [
    "#defie x as embity list\n",
    "\n",
    "x=[]\n",
    "\n",
    "# for to loop in range from 1 to 50\n",
    "\n",
    "for i in range (1,50):\n",
    "\n",
    "    #check if i divisable to 3\n",
    "\n",
    "    if (i% 3== 0):\n",
    "\n",
    "         x.append(i)   \n",
    "         \n",
    "print(x)         \n",
    "       "
   ]
  },
  {
   "cell_type": "markdown",
   "metadata": {},
   "source": [
    "_____\n",
    "**Go through the string below and if the length of a word is even print \"even!\"**"
   ]
  },
  {
   "cell_type": "code",
   "execution_count": 80,
   "metadata": {},
   "outputs": [],
   "source": [
    "st = 'Print every word in this sentence that has an even number of letters'"
   ]
  },
  {
   "cell_type": "code",
   "execution_count": 81,
   "metadata": {},
   "outputs": [
    {
     "name": "stdout",
     "output_type": "stream",
     "text": [
      "even\n"
     ]
    }
   ],
   "source": [
    "#Code in this cell\n",
    "\n",
    "#check of length of string is even \n",
    "\n",
    "if len(st)%2==0:\n",
    "    \n",
    "   print(\"even\")\n"
   ]
  },
  {
   "cell_type": "markdown",
   "metadata": {},
   "source": [
    "____\n",
    "**Write a program that prints the integers from 1 to 100. But for multiples of three print \"Fizz\" instead of the number, and for the multiples of five print \"Buzz\". For numbers which are multiples of both three and five print \"FizzBuzz\".**"
   ]
  },
  {
   "cell_type": "code",
   "execution_count": 82,
   "metadata": {},
   "outputs": [
    {
     "name": "stdout",
     "output_type": "stream",
     "text": [
      "Buzz\n",
      "Buzz\n",
      "Fizz\n",
      "Buzz\n",
      "Buzz\n",
      "Fizz\n",
      "Buzz\n",
      "Buzz\n",
      "Fizz\n",
      "Buzz\n",
      "Buzz\n",
      "Fizz\n",
      "Buzz\n",
      "Buzz\n",
      "FizzBuzz\n",
      "Buzz\n",
      "Buzz\n",
      "Fizz\n",
      "Buzz\n",
      "Buzz\n",
      "Fizz\n",
      "Buzz\n",
      "Buzz\n",
      "Fizz\n",
      "Buzz\n",
      "Buzz\n",
      "Fizz\n",
      "Buzz\n",
      "Buzz\n",
      "FizzBuzz\n",
      "Buzz\n",
      "Buzz\n",
      "Fizz\n",
      "Buzz\n",
      "Buzz\n",
      "Fizz\n",
      "Buzz\n",
      "Buzz\n",
      "Fizz\n",
      "Buzz\n",
      "Buzz\n",
      "Fizz\n",
      "Buzz\n",
      "Buzz\n",
      "FizzBuzz\n",
      "Buzz\n",
      "Buzz\n",
      "Fizz\n",
      "Buzz\n",
      "Buzz\n",
      "Fizz\n",
      "Buzz\n",
      "Buzz\n",
      "Fizz\n",
      "Buzz\n",
      "Buzz\n",
      "Fizz\n",
      "Buzz\n",
      "Buzz\n",
      "FizzBuzz\n",
      "Buzz\n",
      "Buzz\n",
      "Fizz\n",
      "Buzz\n",
      "Buzz\n",
      "Fizz\n",
      "Buzz\n",
      "Buzz\n",
      "Fizz\n",
      "Buzz\n",
      "Buzz\n",
      "Fizz\n",
      "Buzz\n",
      "Buzz\n",
      "FizzBuzz\n",
      "Buzz\n",
      "Buzz\n",
      "Fizz\n",
      "Buzz\n",
      "Buzz\n",
      "Fizz\n",
      "Buzz\n",
      "Buzz\n",
      "Fizz\n",
      "Buzz\n",
      "Buzz\n",
      "Fizz\n",
      "Buzz\n",
      "Buzz\n",
      "FizzBuzz\n",
      "Buzz\n",
      "Buzz\n",
      "Fizz\n",
      "Buzz\n",
      "Buzz\n",
      "Fizz\n",
      "Buzz\n",
      "Buzz\n",
      "Fizz\n"
     ]
    }
   ],
   "source": [
    "#Code in this cell\n",
    "\n",
    "# for to loop in range from 1 to 100\n",
    "\n",
    "for i in range (1,100):\n",
    "\n",
    "    #check if i divisable to 3 and divisable to 3\n",
    "\n",
    "    if (i% 3== 0 and i% 5== 0 ):\n",
    "        print('FizzBuzz')\n",
    "\n",
    "    #check if i divisable to 3 only\n",
    "\n",
    "    elif  (i% 3== 0): \n",
    "        print('Fizz')\n",
    "\n",
    "    #check if i divisable to 5 only  \n",
    "    elif  (i% 3== 0): \n",
    "        print('Buzz')\n",
    "\n",
    "    #print the numbers which not divisable to 3 and  not divisable to 5\n",
    "    \n",
    "    else:\n",
    "         print('Buzz')   \n",
    "\n",
    "\n",
    "    \n",
    "         \n",
    "\n",
    "\n"
   ]
  },
  {
   "cell_type": "markdown",
   "metadata": {},
   "source": [
    "____\n",
    "**Use List Comprehension to create a list of the first letters of every word in the string below:**"
   ]
  },
  {
   "cell_type": "code",
   "execution_count": 3,
   "metadata": {},
   "outputs": [],
   "source": [
    "st = 'Create a list of the first letters of every word in this string'"
   ]
  },
  {
   "cell_type": "code",
   "execution_count": 11,
   "metadata": {},
   "outputs": [
    {
     "name": "stdout",
     "output_type": "stream",
     "text": [
      "['C', 'a', 'l', 'o', 't', 'f', 'l', 'o', 'e', 'w', 'i', 't', 's']\n"
     ]
    }
   ],
   "source": [
    "#Code in this cell\n",
    "#Code here\n",
    "\n",
    "#defie x as embity list\n",
    "st = 'Create a list of the first letters of every word in this string'.split()\n",
    "\n",
    "x=[]\n",
    "\n",
    "# for to loop to loop leters\n",
    "\n",
    "for i in st:\n",
    "\n",
    "#add first letters from each word in list x\n",
    "\n",
    "    x.append(i[0]) \n",
    "\n",
    "# Print thelist of the first letters of every word in this string\n",
    "\n",
    "print(x) \n"
   ]
  },
  {
   "cell_type": "markdown",
   "metadata": {},
   "source": [
    "### Great Job!"
   ]
  }
 ],
 "metadata": {
  "kernelspec": {
   "display_name": "Python 3.10.5 64-bit",
   "language": "python",
   "name": "python3"
  },
  "language_info": {
   "codemirror_mode": {
    "name": "ipython",
    "version": 3
   },
   "file_extension": ".py",
   "mimetype": "text/x-python",
   "name": "python",
   "nbconvert_exporter": "python",
   "pygments_lexer": "ipython3",
   "version": "3.10.5"
  },
  "vscode": {
   "interpreter": {
    "hash": "e074cebecb8a1dc6d2152aedf879479ace58db82fdae5784efaf8d50c4a04b01"
   }
  }
 },
 "nbformat": 4,
 "nbformat_minor": 1
}
